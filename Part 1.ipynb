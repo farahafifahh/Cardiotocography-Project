{
 "cells": [
  {
   "cell_type": "code",
   "execution_count": 1,
   "id": "e6af1d1c",
   "metadata": {},
   "outputs": [],
   "source": [
    "#Import the standard modules to be used\n",
    "import numpy as np\n",
    "import pandas as pd\n",
    "import warnings\n",
    "warnings.filterwarnings('ignore')"
   ]
  },
  {
   "cell_type": "code",
   "execution_count": 2,
   "id": "e325f548",
   "metadata": {},
   "outputs": [
    {
     "data": {
      "text/plain": [
       "(2126, 23)"
      ]
     },
     "execution_count": 2,
     "metadata": {},
     "output_type": "execute_result"
    }
   ],
   "source": [
    "data = pd.read_csv('ctg.csv',sep=';') #Read the data from ctg.csv file\n",
    "data.shape                            #Ensure there is 2126 recods of data and have 23 columns"
   ]
  },
  {
   "cell_type": "code",
   "execution_count": 3,
   "id": "2bfbbc27",
   "metadata": {},
   "outputs": [
    {
     "data": {
      "text/html": [
       "<div>\n",
       "<style scoped>\n",
       "    .dataframe tbody tr th:only-of-type {\n",
       "        vertical-align: middle;\n",
       "    }\n",
       "\n",
       "    .dataframe tbody tr th {\n",
       "        vertical-align: top;\n",
       "    }\n",
       "\n",
       "    .dataframe thead th {\n",
       "        text-align: right;\n",
       "    }\n",
       "</style>\n",
       "<table border=\"1\" class=\"dataframe\">\n",
       "  <thead>\n",
       "    <tr style=\"text-align: right;\">\n",
       "      <th></th>\n",
       "      <th>LB</th>\n",
       "      <th>AC</th>\n",
       "      <th>FM</th>\n",
       "      <th>UC</th>\n",
       "      <th>ASTV</th>\n",
       "      <th>MSTV</th>\n",
       "      <th>ALTV</th>\n",
       "      <th>MLTV</th>\n",
       "      <th>DL</th>\n",
       "      <th>DS</th>\n",
       "      <th>...</th>\n",
       "      <th>Max</th>\n",
       "      <th>Nmax</th>\n",
       "      <th>Nzeros</th>\n",
       "      <th>Mode</th>\n",
       "      <th>Mean</th>\n",
       "      <th>Median</th>\n",
       "      <th>Variance</th>\n",
       "      <th>Tendency</th>\n",
       "      <th>CLASS</th>\n",
       "      <th>NSP</th>\n",
       "    </tr>\n",
       "  </thead>\n",
       "  <tbody>\n",
       "    <tr>\n",
       "      <th>530</th>\n",
       "      <td>142</td>\n",
       "      <td>7</td>\n",
       "      <td>32</td>\n",
       "      <td>0</td>\n",
       "      <td>32</td>\n",
       "      <td>3.1</td>\n",
       "      <td>0</td>\n",
       "      <td>1.6</td>\n",
       "      <td>1</td>\n",
       "      <td>0</td>\n",
       "      <td>...</td>\n",
       "      <td>200</td>\n",
       "      <td>10</td>\n",
       "      <td>0</td>\n",
       "      <td>167</td>\n",
       "      <td>154</td>\n",
       "      <td>160</td>\n",
       "      <td>55</td>\n",
       "      <td>1</td>\n",
       "      <td>4</td>\n",
       "      <td>1</td>\n",
       "    </tr>\n",
       "    <tr>\n",
       "      <th>19</th>\n",
       "      <td>130</td>\n",
       "      <td>6</td>\n",
       "      <td>557</td>\n",
       "      <td>6</td>\n",
       "      <td>29</td>\n",
       "      <td>1.7</td>\n",
       "      <td>0</td>\n",
       "      <td>7.8</td>\n",
       "      <td>5</td>\n",
       "      <td>0</td>\n",
       "      <td>...</td>\n",
       "      <td>177</td>\n",
       "      <td>6</td>\n",
       "      <td>1</td>\n",
       "      <td>133</td>\n",
       "      <td>129</td>\n",
       "      <td>133</td>\n",
       "      <td>27</td>\n",
       "      <td>0</td>\n",
       "      <td>6</td>\n",
       "      <td>1</td>\n",
       "    </tr>\n",
       "    <tr>\n",
       "      <th>49</th>\n",
       "      <td>158</td>\n",
       "      <td>6</td>\n",
       "      <td>0</td>\n",
       "      <td>9</td>\n",
       "      <td>27</td>\n",
       "      <td>1.7</td>\n",
       "      <td>0</td>\n",
       "      <td>14.9</td>\n",
       "      <td>1</td>\n",
       "      <td>0</td>\n",
       "      <td>...</td>\n",
       "      <td>197</td>\n",
       "      <td>7</td>\n",
       "      <td>0</td>\n",
       "      <td>170</td>\n",
       "      <td>168</td>\n",
       "      <td>170</td>\n",
       "      <td>14</td>\n",
       "      <td>1</td>\n",
       "      <td>2</td>\n",
       "      <td>1</td>\n",
       "    </tr>\n",
       "    <tr>\n",
       "      <th>573</th>\n",
       "      <td>128</td>\n",
       "      <td>5</td>\n",
       "      <td>0</td>\n",
       "      <td>4</td>\n",
       "      <td>37</td>\n",
       "      <td>4.1</td>\n",
       "      <td>0</td>\n",
       "      <td>26.3</td>\n",
       "      <td>1</td>\n",
       "      <td>0</td>\n",
       "      <td>...</td>\n",
       "      <td>199</td>\n",
       "      <td>7</td>\n",
       "      <td>1</td>\n",
       "      <td>133</td>\n",
       "      <td>147</td>\n",
       "      <td>140</td>\n",
       "      <td>100</td>\n",
       "      <td>0</td>\n",
       "      <td>2</td>\n",
       "      <td>1</td>\n",
       "    </tr>\n",
       "    <tr>\n",
       "      <th>1572</th>\n",
       "      <td>132</td>\n",
       "      <td>0</td>\n",
       "      <td>0</td>\n",
       "      <td>1</td>\n",
       "      <td>26</td>\n",
       "      <td>2.1</td>\n",
       "      <td>0</td>\n",
       "      <td>0.0</td>\n",
       "      <td>2</td>\n",
       "      <td>0</td>\n",
       "      <td>...</td>\n",
       "      <td>157</td>\n",
       "      <td>4</td>\n",
       "      <td>0</td>\n",
       "      <td>86</td>\n",
       "      <td>109</td>\n",
       "      <td>106</td>\n",
       "      <td>110</td>\n",
       "      <td>-1</td>\n",
       "      <td>7</td>\n",
       "      <td>1</td>\n",
       "    </tr>\n",
       "    <tr>\n",
       "      <th>1384</th>\n",
       "      <td>121</td>\n",
       "      <td>4</td>\n",
       "      <td>0</td>\n",
       "      <td>10</td>\n",
       "      <td>34</td>\n",
       "      <td>1.1</td>\n",
       "      <td>0</td>\n",
       "      <td>6.3</td>\n",
       "      <td>5</td>\n",
       "      <td>0</td>\n",
       "      <td>...</td>\n",
       "      <td>153</td>\n",
       "      <td>5</td>\n",
       "      <td>1</td>\n",
       "      <td>127</td>\n",
       "      <td>123</td>\n",
       "      <td>126</td>\n",
       "      <td>29</td>\n",
       "      <td>1</td>\n",
       "      <td>6</td>\n",
       "      <td>1</td>\n",
       "    </tr>\n",
       "    <tr>\n",
       "      <th>2074</th>\n",
       "      <td>130</td>\n",
       "      <td>9</td>\n",
       "      <td>1</td>\n",
       "      <td>6</td>\n",
       "      <td>70</td>\n",
       "      <td>0.7</td>\n",
       "      <td>6</td>\n",
       "      <td>4.3</td>\n",
       "      <td>0</td>\n",
       "      <td>0</td>\n",
       "      <td>...</td>\n",
       "      <td>158</td>\n",
       "      <td>1</td>\n",
       "      <td>0</td>\n",
       "      <td>139</td>\n",
       "      <td>140</td>\n",
       "      <td>141</td>\n",
       "      <td>3</td>\n",
       "      <td>0</td>\n",
       "      <td>2</td>\n",
       "      <td>1</td>\n",
       "    </tr>\n",
       "    <tr>\n",
       "      <th>176</th>\n",
       "      <td>119</td>\n",
       "      <td>0</td>\n",
       "      <td>0</td>\n",
       "      <td>1</td>\n",
       "      <td>34</td>\n",
       "      <td>1.1</td>\n",
       "      <td>0</td>\n",
       "      <td>14.0</td>\n",
       "      <td>0</td>\n",
       "      <td>0</td>\n",
       "      <td>...</td>\n",
       "      <td>150</td>\n",
       "      <td>4</td>\n",
       "      <td>0</td>\n",
       "      <td>127</td>\n",
       "      <td>125</td>\n",
       "      <td>128</td>\n",
       "      <td>3</td>\n",
       "      <td>1</td>\n",
       "      <td>1</td>\n",
       "      <td>1</td>\n",
       "    </tr>\n",
       "    <tr>\n",
       "      <th>2118</th>\n",
       "      <td>140</td>\n",
       "      <td>0</td>\n",
       "      <td>0</td>\n",
       "      <td>7</td>\n",
       "      <td>79</td>\n",
       "      <td>0.5</td>\n",
       "      <td>26</td>\n",
       "      <td>7.0</td>\n",
       "      <td>1</td>\n",
       "      <td>0</td>\n",
       "      <td>...</td>\n",
       "      <td>150</td>\n",
       "      <td>1</td>\n",
       "      <td>0</td>\n",
       "      <td>145</td>\n",
       "      <td>142</td>\n",
       "      <td>145</td>\n",
       "      <td>2</td>\n",
       "      <td>1</td>\n",
       "      <td>1</td>\n",
       "      <td>1</td>\n",
       "    </tr>\n",
       "    <tr>\n",
       "      <th>1620</th>\n",
       "      <td>142</td>\n",
       "      <td>2</td>\n",
       "      <td>44</td>\n",
       "      <td>1</td>\n",
       "      <td>64</td>\n",
       "      <td>4.0</td>\n",
       "      <td>0</td>\n",
       "      <td>0.4</td>\n",
       "      <td>6</td>\n",
       "      <td>0</td>\n",
       "      <td>...</td>\n",
       "      <td>210</td>\n",
       "      <td>9</td>\n",
       "      <td>2</td>\n",
       "      <td>142</td>\n",
       "      <td>109</td>\n",
       "      <td>150</td>\n",
       "      <td>54</td>\n",
       "      <td>0</td>\n",
       "      <td>6</td>\n",
       "      <td>1</td>\n",
       "    </tr>\n",
       "  </tbody>\n",
       "</table>\n",
       "<p>10 rows × 23 columns</p>\n",
       "</div>"
      ],
      "text/plain": [
       "       LB  AC   FM  UC  ASTV  MSTV  ALTV  MLTV  DL  DS  ...  Max  Nmax  \\\n",
       "530   142   7   32   0    32   3.1     0   1.6   1   0  ...  200    10   \n",
       "19    130   6  557   6    29   1.7     0   7.8   5   0  ...  177     6   \n",
       "49    158   6    0   9    27   1.7     0  14.9   1   0  ...  197     7   \n",
       "573   128   5    0   4    37   4.1     0  26.3   1   0  ...  199     7   \n",
       "1572  132   0    0   1    26   2.1     0   0.0   2   0  ...  157     4   \n",
       "1384  121   4    0  10    34   1.1     0   6.3   5   0  ...  153     5   \n",
       "2074  130   9    1   6    70   0.7     6   4.3   0   0  ...  158     1   \n",
       "176   119   0    0   1    34   1.1     0  14.0   0   0  ...  150     4   \n",
       "2118  140   0    0   7    79   0.5    26   7.0   1   0  ...  150     1   \n",
       "1620  142   2   44   1    64   4.0     0   0.4   6   0  ...  210     9   \n",
       "\n",
       "      Nzeros  Mode  Mean  Median  Variance  Tendency  CLASS  NSP  \n",
       "530        0   167   154     160        55         1      4    1  \n",
       "19         1   133   129     133        27         0      6    1  \n",
       "49         0   170   168     170        14         1      2    1  \n",
       "573        1   133   147     140       100         0      2    1  \n",
       "1572       0    86   109     106       110        -1      7    1  \n",
       "1384       1   127   123     126        29         1      6    1  \n",
       "2074       0   139   140     141         3         0      2    1  \n",
       "176        0   127   125     128         3         1      1    1  \n",
       "2118       0   145   142     145         2         1      1    1  \n",
       "1620       2   142   109     150        54         0      6    1  \n",
       "\n",
       "[10 rows x 23 columns]"
      ]
     },
     "execution_count": 3,
     "metadata": {},
     "output_type": "execute_result"
    }
   ],
   "source": [
    "data.sample(n = 10) #Randomly select 10 sample rows of data"
   ]
  },
  {
   "cell_type": "code",
   "execution_count": 4,
   "id": "f28b0c36",
   "metadata": {},
   "outputs": [
    {
     "data": {
      "image/png": "[encoded data removed]",
      "text/plain": [
       "<Figure size 432x288 with 1 Axes>"
      ]
     },
     "metadata": {
      "needs_background": "light"
     },
     "output_type": "display_data"
    }
   ],
   "source": [
    "from matplotlib import pyplot as plt\n",
    "\n",
    "index1 = np.where(data['NSP']==1)  #To get the index for the records's NSP value which is 1, 2,or 3\n",
    "index2 = np.where(data['NSP']==2)\n",
    "index3 = np.where(data['NSP']==3)\n",
    "\n",
    "#fig = plt.figure(figsize=(8,8)) #To make the graph size bigger\n",
    "plt.scatter(data['AC'].loc[index1], data['FM'].loc[index1], c='red',label='Normal')\n",
    "plt.scatter(data['AC'].loc[index2], data['FM'].loc[index2], c='blue',label='Suspect')\n",
    "plt.scatter(data['AC'].loc[index3], data['FM'].loc[index3], c='purple',label='Pathologic')\n",
    "plt.legend()  #Show the legend\n",
    "\n",
    "plt.xlabel(\"AC: # of accelerations per second\")   #Name of x-axis\n",
    "plt.ylabel(\"FM: # of fetal movements per second\") #Name of y-axis\n",
    "plt.show()                                        #Show the figure"
   ]
  },
  {
   "cell_type": "code",
   "execution_count": 5,
   "id": "9a1ccfc3",
   "metadata": {},
   "outputs": [
    {
     "data": {
      "image/png": "[encoded data removed]",
      "text/plain": [
       "<Figure size 432x288 with 1 Axes>"
      ]
     },
     "metadata": {
      "needs_background": "light"
     },
     "output_type": "display_data"
    }
   ],
   "source": [
    "#fig = plt.figure(figsize=(8,8)) #To make the graph size bigger\n",
    "plt.scatter(data['UC'].loc[index1], data['FM'].loc[index1], c='red',label='Normal')\n",
    "plt.scatter(data['UC'].loc[index2], data['FM'].loc[index2], c='blue',label='Suspect')\n",
    "plt.scatter(data['UC'].loc[index3], data['FM'].loc[index3], c='purple',label='Pathologic')\n",
    "plt.legend()\n",
    "\n",
    "plt.xlabel(\"UC: # of uterine contractions per second\") #Name of x-axis\n",
    "plt.ylabel(\"FM: # of fetal movements per second\")      #Name of y-axis\n",
    "plt.show()                                             #Show the figure"
   ]
  },
  {
   "cell_type": "markdown",
   "id": "67aea6a6",
   "metadata": {},
   "source": [
    "### To find the type,range,mean and std of the selected features"
   ]
  },
  {
   "cell_type": "code",
   "execution_count": 6,
   "id": "16ee3044",
   "metadata": {},
   "outputs": [
    {
     "name": "stdout",
     "output_type": "stream",
     "text": [
      "int64\n",
      "Range of LB: 106 - 160\n",
      "Mean: 133.3038570084666\n",
      "std 9.84084425772098\n"
     ]
    }
   ],
   "source": [
    "#To calculate the type,min,max,mean and std for LB\n",
    "\n",
    "print(data.dtypes['LB'])\n",
    "\n",
    "min = data['LB'].min()\n",
    "max = data['LB'].max()\n",
    "mean = data['LB'].mean()\n",
    "std = data['LB'].std()\n",
    "\n",
    "print('Range of LB:',min,\"-\",max)\n",
    "print('Mean:',mean)\n",
    "print('std',std)"
   ]
  },
  {
   "cell_type": "code",
   "execution_count": 7,
   "id": "4485ee78",
   "metadata": {},
   "outputs": [
    {
     "name": "stdout",
     "output_type": "stream",
     "text": [
      "int64\n",
      "Range of AC: 0 - 26\n",
      "Mean: 2.722483537158984\n",
      "std 3.560850214860175\n"
     ]
    }
   ],
   "source": [
    "#To calculate the type,min,max,mean and std for AC\n",
    "\n",
    "print(data.dtypes['AC'])\n",
    "\n",
    "min = data['AC'].min()\n",
    "max = data['AC'].max()\n",
    "mean = data['AC'].mean()\n",
    "std = data['AC'].std()\n",
    "\n",
    "print('Range of AC:',min,\"-\",max)\n",
    "print('Mean:',mean)\n",
    "print('std',std)"
   ]
  },
  {
   "cell_type": "code",
   "execution_count": 8,
   "id": "6444077b",
   "metadata": {},
   "outputs": [
    {
     "name": "stdout",
     "output_type": "stream",
     "text": [
      "int64\n",
      "Range of FM: 0 - 564\n",
      "Mean: 7.241298212605833\n",
      "std 37.12530903981976\n"
     ]
    }
   ],
   "source": [
    "#To calculate the type,min,max,mean and std for FM\n",
    "\n",
    "print(data.dtypes['FM'])\n",
    "\n",
    "min = data['FM'].min()\n",
    "max = data['FM'].max()\n",
    "mean = data['FM'].mean()\n",
    "std = data['FM'].std()\n",
    "\n",
    "print('Range of FM:',min,\"-\",max)\n",
    "print('Mean:',mean)\n",
    "print('std',std)"
   ]
  },
  {
   "cell_type": "code",
   "execution_count": 9,
   "id": "a0c797fe",
   "metadata": {},
   "outputs": [
    {
     "name": "stdout",
     "output_type": "stream",
     "text": [
      "int64\n",
      "Range of UC: 0 - 23\n",
      "Mean: 3.6599247412982128\n",
      "std 2.8470935097318018\n"
     ]
    }
   ],
   "source": [
    "#To calculate the type,min,max,mean and std for UC\n",
    "\n",
    "print(data.dtypes['UC'])\n",
    "\n",
    "min = data['UC'].min()\n",
    "max = data['UC'].max()\n",
    "mean = data['UC'].mean()\n",
    "std = data['UC'].std()\n",
    "\n",
    "print('Range of UC:',min,\"-\",max)\n",
    "print('Mean:',mean)\n",
    "print('std',std)"
   ]
  },
  {
   "cell_type": "code",
   "execution_count": 10,
   "id": "2a8f3711",
   "metadata": {},
   "outputs": [
    {
     "name": "stdout",
     "output_type": "stream",
     "text": [
      "int64\n",
      "Range of DL: 0 - 16\n",
      "Mean: 1.570084666039511\n",
      "std 2.499228811383983\n"
     ]
    }
   ],
   "source": [
    "#To calculate the type,min,max,mean and std for DL\n",
    "\n",
    "print(data.dtypes['DL'])\n",
    "\n",
    "min = data['DL'].min()\n",
    "max = data['DL'].max()\n",
    "mean = data['DL'].mean()\n",
    "std = data['DL'].std()\n",
    "\n",
    "print('Range of DL:',min,\"-\",max)\n",
    "print('Mean:',mean)\n",
    "print('std',std)"
   ]
  },
  {
   "cell_type": "code",
   "execution_count": 11,
   "id": "c44e9ac1",
   "metadata": {
    "scrolled": true
   },
   "outputs": [
    {
     "name": "stdout",
     "output_type": "stream",
     "text": [
      "int64\n",
      "Range of DS: 0 - 1\n",
      "Mean: 0.003292568203198495\n",
      "std 0.05729983891806735\n"
     ]
    }
   ],
   "source": [
    "#To calculate the type,min,max,mean and std for DS\n",
    "\n",
    "print(data.dtypes['DS'])\n",
    "\n",
    "min = data['DS'].min()\n",
    "max = data['DS'].max()\n",
    "mean = data['DS'].mean()\n",
    "std = data['DS'].std()\n",
    "\n",
    "print('Range of DS:',min,\"-\",max)\n",
    "print('Mean:',mean)\n",
    "print('std',std)"
   ]
  },
  {
   "cell_type": "code",
   "execution_count": 12,
   "id": "037635a0",
   "metadata": {},
   "outputs": [
    {
     "name": "stdout",
     "output_type": "stream",
     "text": [
      "int64\n",
      "Range of DP: 0 - 4\n",
      "Mean: 0.12605832549388524\n",
      "std 0.4643611012576752\n"
     ]
    }
   ],
   "source": [
    "#To calculate the type,min,max,mean and std for DP\n",
    "\n",
    "print(data.dtypes['DP'])\n",
    "\n",
    "min = data['DP'].min()\n",
    "max = data['DP'].max()\n",
    "mean = data['DP'].mean()\n",
    "std = data['DP'].std()\n",
    "\n",
    "print('Range of DP:',min,\"-\",max)\n",
    "print('Mean:',mean)\n",
    "print('std',std)"
   ]
  },
  {
   "cell_type": "markdown",
   "id": "db9332b5",
   "metadata": {},
   "source": [
    "### Split the datasets into training set,test set and validation set"
   ]
  },
  {
   "cell_type": "code",
   "execution_count": 13,
   "id": "2abd253f",
   "metadata": {},
   "outputs": [
    {
     "name": "stdout",
     "output_type": "stream",
     "text": [
      "(1360, 7)\n",
      "(340, 7)\n",
      "(426, 7)\n"
     ]
    }
   ],
   "source": [
    "from sklearn.preprocessing import MinMaxScaler\n",
    "from sklearn.model_selection import train_test_split\n",
    "\n",
    "#Define the data for X and y\n",
    "y = data['NSP']\n",
    "X = data[['LB','AC','FM','UC','DL','DS','DP']]\n",
    "scaler = MinMaxScaler()\n",
    "X = scaler.fit_transform(X)\n",
    "\n",
    "#Split data in training set, validation set and test set\n",
    "X_train, X_test, y_train, y_test = train_test_split(X, y, test_size=0.2,random_state=10)\n",
    "X_train, X_val, y_train, y_val = train_test_split(X_train, y_train, test_size=0.2, random_state=10)\n",
    "\n",
    "#Print the shape of training set,validation set and test set\n",
    "print(X_train.shape)\n",
    "print(X_val.shape)\n",
    "print(X_test.shape)"
   ]
  },
  {
   "cell_type": "markdown",
   "id": "136d578b",
   "metadata": {},
   "source": [
    "## K-Nearest Neighbors"
   ]
  },
  {
   "cell_type": "code",
   "execution_count": 21,
   "id": "f5bb579a",
   "metadata": {},
   "outputs": [
    {
     "name": "stdout",
     "output_type": "stream",
     "text": [
      "0.8661971830985915\n",
      "[[325  11   0]\n",
      " [ 32  27   2]\n",
      " [  8   4  17]]\n",
      "              precision    recall  f1-score   support\n",
      "\n",
      "           1       0.89      0.97      0.93       336\n",
      "           2       0.64      0.44      0.52        61\n",
      "           3       0.89      0.59      0.71        29\n",
      "\n",
      "    accuracy                           0.87       426\n",
      "   macro avg       0.81      0.67      0.72       426\n",
      "weighted avg       0.86      0.87      0.85       426\n",
      "\n"
     ]
    }
   ],
   "source": [
    "#This model use k = 5(default)\n",
    "from sklearn.neighbors import KNeighborsClassifier\n",
    "from sklearn.metrics import accuracy_score, confusion_matrix,classification_report\n",
    "\n",
    "model_knn = KNeighborsClassifier()\n",
    "model_knn.fit(X_train, y_train)              #Training the model using training set\n",
    "\n",
    "y_pred = model_knn.predict(X_test)           #Predict the test set using the predictive model\n",
    "print(accuracy_score(y_test, y_pred))        #Print the accuracy value\n",
    "print(confusion_matrix(y_test, y_pred))      #Print the confusion matrix\n",
    "print(classification_report(y_test, y_pred)) #Print the classification report"
   ]
  },
  {
   "cell_type": "code",
   "execution_count": 22,
   "id": "04735df6",
   "metadata": {},
   "outputs": [
    {
     "data": {
      "image/png": "[encoded data removed]",
      "text/plain": [
       "<Figure size 432x288 with 1 Axes>"
      ]
     },
     "metadata": {
      "needs_background": "light"
     },
     "output_type": "display_data"
    },
    {
     "name": "stdout",
     "output_type": "stream",
     "text": [
      "16\n"
     ]
    }
   ],
   "source": [
    "#To find the value of best k\n",
    "\n",
    "scores = []\n",
    "max_score = 0\n",
    "best_k = 0\n",
    "for k in range(1,20):\n",
    "    model_knn = KNeighborsClassifier(n_neighbors=k)\n",
    "    model_knn.fit(X_train, y_train)\n",
    "    score = model_knn.score(X_val, y_val)\n",
    "    if score > max_score:\n",
    "        max_score = score\n",
    "        best_k = k\n",
    "    scores.append(score)\n",
    "\n",
    "plt.plot(np.arange(1,20), scores) #Show the scores in range (1-19)\n",
    "plt.xticks(np.arange(1,20))\n",
    "plt.grid()\n",
    "plt.show()\n",
    "\n",
    "print(best_k) #Print the value of best_k"
   ]
  },
  {
   "cell_type": "code",
   "execution_count": 23,
   "id": "3a723900",
   "metadata": {},
   "outputs": [
    {
     "name": "stdout",
     "output_type": "stream",
     "text": [
      "0.8615023474178404\n",
      "[[327   8   1]\n",
      " [ 33  25   3]\n",
      " [  8   6  15]]\n",
      "              precision    recall  f1-score   support\n",
      "\n",
      "           1       0.89      0.97      0.93       336\n",
      "           2       0.64      0.41      0.50        61\n",
      "           3       0.79      0.52      0.62        29\n",
      "\n",
      "    accuracy                           0.86       426\n",
      "   macro avg       0.77      0.63      0.68       426\n",
      "weighted avg       0.85      0.86      0.85       426\n",
      "\n"
     ]
    }
   ],
   "source": [
    "#This model use the best k = 16\n",
    "\n",
    "model_knn = KNeighborsClassifier(n_neighbors=best_k)\n",
    "model_knn.fit(X_train, y_train)           #Training the model using training set\n",
    "y_pred = model_knn.predict(X_test)        #Predict the test set using the predictive model\n",
    "print(accuracy_score(y_test, y_pred))     #Print the accuracy value\n",
    "print(confusion_matrix(y_test, y_pred))   #Print the confusion matrix\n",
    "print(classification_report(y_test, y_pred)) #Print the classification report"
   ]
  },
  {
   "cell_type": "markdown",
   "id": "24b75161",
   "metadata": {},
   "source": [
    "## Decision Tree"
   ]
  },
  {
   "cell_type": "code",
   "execution_count": 24,
   "id": "229cee65",
   "metadata": {},
   "outputs": [
    {
     "data": {
      "text/plain": [
       "DecisionTreeClassifier(random_state=10)"
      ]
     },
     "execution_count": 24,
     "metadata": {},
     "output_type": "execute_result"
    }
   ],
   "source": [
    "#Import DecisionTreeClassifier module from sklearn.tree\n",
    "from sklearn.tree import DecisionTreeClassifier\n",
    "model_dt = DecisionTreeClassifier(criterion='gini', random_state=10)\n",
    "model_dt.fit(X_train, y_train)"
   ]
  },
  {
   "cell_type": "code",
   "execution_count": 25,
   "id": "7bd0bb10",
   "metadata": {},
   "outputs": [
    {
     "name": "stdout",
     "output_type": "stream",
     "text": [
      "0.8755868544600939\n",
      "[[318  13   5]\n",
      " [ 22  32   7]\n",
      " [  3   3  23]]\n",
      "              precision    recall  f1-score   support\n",
      "\n",
      "           1       0.93      0.95      0.94       336\n",
      "           2       0.67      0.52      0.59        61\n",
      "           3       0.66      0.79      0.72        29\n",
      "\n",
      "    accuracy                           0.88       426\n",
      "   macro avg       0.75      0.75      0.75       426\n",
      "weighted avg       0.87      0.88      0.87       426\n",
      "\n"
     ]
    }
   ],
   "source": [
    "#Evaluate the performance of model by predicting the test set\n",
    "from sklearn.metrics import accuracy_score, confusion_matrix, classification_report\n",
    "\n",
    "y_pred = model_dt.predict(X_test)\n",
    "print(accuracy_score(y_test, y_pred))\n",
    "print(confusion_matrix(y_test, y_pred))\n",
    "print(classification_report(y_test, y_pred))"
   ]
  },
  {
   "cell_type": "code",
   "execution_count": 26,
   "id": "8f54b75b",
   "metadata": {},
   "outputs": [],
   "source": [
    "#Set the parameters to find the optimal model and build four models with different max_depth value\n",
    "dt_models =[]\n",
    "depths = np.arange(3,8,1)\n",
    "for d in depths:\n",
    "    model = DecisionTreeClassifier(criterion='gini', min_samples_split=15, \n",
    "                                   max_depth=d, random_state=10)\n",
    "    model.fit(X_train, y_train)\n",
    "    dt_models.append(model)"
   ]
  },
  {
   "cell_type": "code",
   "execution_count": 31,
   "id": "975af8eb",
   "metadata": {},
   "outputs": [
    {
     "name": "stdout",
     "output_type": "stream",
     "text": [
      "Decision Tree classifier with max_depth=3 achieves a mean accuracy of 0.8470588235294118\n",
      "Decision Tree classifier with max_depth=4 achieves a mean accuracy of 0.8352941176470589\n",
      "Decision Tree classifier with max_depth=5 achieves a mean accuracy of 0.8029411764705883\n",
      "Decision Tree classifier with max_depth=6 achieves a mean accuracy of 0.8205882352941176\n",
      "Decision Tree classifier with max_depth=7 achieves a mean accuracy of 0.8117647058823529\n",
      "DecisionTreeClassifier(max_depth=3, min_samples_split=15, random_state=10)\n"
     ]
    }
   ],
   "source": [
    "#Validation set to determine the best max_depth parameter\n",
    "best_acc = 0\n",
    "model_best = None\n",
    "for m,d in zip(dt_models, depths):\n",
    "    acc = m.score(X_val, y_val)\n",
    "    print(f'Decision Tree classifier with max_depth={d} achieves a mean accuracy of {acc}')\n",
    "    if acc > best_acc:\n",
    "        best_acc = acc\n",
    "        model_best = m"
   ]
  },
  {
   "cell_type": "code",
   "execution_count": 28,
   "id": "c8a00549",
   "metadata": {},
   "outputs": [
    {
     "name": "stdout",
     "output_type": "stream",
     "text": [
      "0.8380281690140845\n",
      "[[333   3   0]\n",
      " [ 47  14   0]\n",
      " [ 15   4  10]]\n",
      "              precision    recall  f1-score   support\n",
      "\n",
      "           1       0.84      0.99      0.91       336\n",
      "           2       0.67      0.23      0.34        61\n",
      "           3       1.00      0.34      0.51        29\n",
      "\n",
      "    accuracy                           0.84       426\n",
      "   macro avg       0.84      0.52      0.59       426\n",
      "weighted avg       0.83      0.84      0.80       426\n",
      "\n"
     ]
    }
   ],
   "source": [
    "#Evaluate the performance of model using the best max_depth parameter\n",
    "y_pred = model_best.predict(X_test)\n",
    "print(accuracy_score(y_test, y_pred))\n",
    "print(confusion_matrix(y_test, y_pred))\n",
    "print(classification_report(y_test, y_pred))"
   ]
  },
  {
   "cell_type": "code",
   "execution_count": 29,
   "id": "c92be3f2",
   "metadata": {},
   "outputs": [
    {
     "name": "stdout",
     "output_type": "stream",
     "text": [
      "|--- feature_1 <= 0.06\n",
      "|   |--- feature_0 <= 0.56\n",
      "|   |   |--- feature_6 <= 0.38\n",
      "|   |   |   |--- class: 1\n",
      "|   |   |--- feature_6 >  0.38\n",
      "|   |   |   |--- class: 3\n",
      "|   |--- feature_0 >  0.56\n",
      "|   |   |--- feature_3 <= 0.02\n",
      "|   |   |   |--- class: 2\n",
      "|   |   |--- feature_3 >  0.02\n",
      "|   |   |   |--- class: 1\n",
      "|--- feature_1 >  0.06\n",
      "|   |--- feature_6 <= 0.38\n",
      "|   |   |--- feature_2 <= 0.71\n",
      "|   |   |   |--- class: 1\n",
      "|   |   |--- feature_2 >  0.71\n",
      "|   |   |   |--- class: 1\n",
      "|   |--- feature_6 >  0.38\n",
      "|   |   |--- class: 3\n",
      "\n"
     ]
    },
    {
     "data": {
      "image/png": "[encoded data removed]",
      "text/plain": [
       "<Figure size 432x288 with 1 Axes>"
      ]
     },
     "metadata": {
      "needs_background": "light"
     },
     "output_type": "display_data"
    }
   ],
   "source": [
    "#Visualise the tree in text representation\n",
    "from sklearn.tree import plot_tree, export_text \n",
    "plot_tree(model_dt)\n",
    "print(export_text(model_best))"
   ]
  },
  {
   "cell_type": "code",
   "execution_count": 30,
   "id": "1a2b56a0",
   "metadata": {},
   "outputs": [
    {
     "data": {
      "image/png": "[encoded data removed]",
      "text/plain": [
       "<Figure size 1152x1152 with 1 Axes>"
      ]
     },
     "metadata": {
      "needs_background": "light"
     },
     "output_type": "display_data"
    }
   ],
   "source": [
    "#Visualiza the tree using plot method\n",
    "from matplotlib import pyplot as plt\n",
    "plt.figure(figsize=(16,16)) #Can increase the value if the size of the image is too small\n",
    "plot_tree(model_best) \n",
    "plt.show()"
   ]
  },
  {
   "cell_type": "markdown",
   "id": "eb0713be",
   "metadata": {},
   "source": [
    "## References"
   ]
  },
  {
   "cell_type": "markdown",
   "id": "bfc9e048",
   "metadata": {},
   "source": [
    "Python Machine Learning Decision Tree. (n.d.). W3 Schools. Retrieved May 25, 2022, from https://www.w3schools.com/python/python_ml_decision_tree.asp"
   ]
  }
 ],
 "metadata": {
  "kernelspec": {
   "display_name": "Python 3 (ipykernel)",
   "language": "python",
   "name": "python3"
  },
  "language_info": {
   "codemirror_mode": {
    "name": "ipython",
    "version": 3
   },
   "file_extension": ".py",
   "mimetype": "text/x-python",
   "name": "python",
   "nbconvert_exporter": "python",
   "pygments_lexer": "ipython3",
   "version": "3.9.7"
  }
 },
 "nbformat": 4,
 "nbformat_minor": 5
}

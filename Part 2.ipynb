{
 "cells": [
  {
   "cell_type": "code",
   "execution_count": 1,
   "id": "af999b38",
   "metadata": {},
   "outputs": [],
   "source": [
    "# Import the standard modules to be used\n",
    "import numpy as np\n",
    "import pandas as pd\n",
    "import tensorflow as tf\n",
    "import warnings\n",
    "warnings.filterwarnings('ignore')\n",
    "%config Completer.use_jedi = False"
   ]
  },
  {
   "cell_type": "code",
   "execution_count": 2,
   "id": "b4c24429",
   "metadata": {},
   "outputs": [
    {
     "name": "stdout",
     "output_type": "stream",
     "text": [
      "\n"
     ]
    }
   ],
   "source": [
    "print(tf.test.gpu_device_name())                # To check if the GPU available or not\n",
    "# print(tf.config.list_physical_devices('GPU')) # Alternative"
   ]
  },
  {
   "cell_type": "code",
   "execution_count": 3,
   "id": "b2afe7c9",
   "metadata": {},
   "outputs": [
    {
     "data": {
      "text/plain": [
       "(2126, 23)"
      ]
     },
     "execution_count": 3,
     "metadata": {},
     "output_type": "execute_result"
    }
   ],
   "source": [
    "data = pd.read_csv('ctg.csv',sep=';') # Read the data from ctg.csv file\n",
    "data.shape                            # Ensure there is 2126 recods of data and have 23 columns"
   ]
  },
  {
   "cell_type": "code",
   "execution_count": 4,
   "id": "afa591c1",
   "metadata": {},
   "outputs": [
    {
     "data": {
      "text/html": [
       "<div>\n",
       "<style scoped>\n",
       "    .dataframe tbody tr th:only-of-type {\n",
       "        vertical-align: middle;\n",
       "    }\n",
       "\n",
       "    .dataframe tbody tr th {\n",
       "        vertical-align: top;\n",
       "    }\n",
       "\n",
       "    .dataframe thead th {\n",
       "        text-align: right;\n",
       "    }\n",
       "</style>\n",
       "<table border=\"1\" class=\"dataframe\">\n",
       "  <thead>\n",
       "    <tr style=\"text-align: right;\">\n",
       "      <th></th>\n",
       "      <th>LB</th>\n",
       "      <th>AC</th>\n",
       "      <th>FM</th>\n",
       "      <th>UC</th>\n",
       "      <th>ASTV</th>\n",
       "      <th>MSTV</th>\n",
       "      <th>ALTV</th>\n",
       "      <th>MLTV</th>\n",
       "      <th>DL</th>\n",
       "      <th>DS</th>\n",
       "      <th>...</th>\n",
       "      <th>Max</th>\n",
       "      <th>Nmax</th>\n",
       "      <th>Nzeros</th>\n",
       "      <th>Mode</th>\n",
       "      <th>Mean</th>\n",
       "      <th>Median</th>\n",
       "      <th>Variance</th>\n",
       "      <th>Tendency</th>\n",
       "      <th>CLASS</th>\n",
       "      <th>NSP</th>\n",
       "    </tr>\n",
       "  </thead>\n",
       "  <tbody>\n",
       "    <tr>\n",
       "      <th>2046</th>\n",
       "      <td>128</td>\n",
       "      <td>0</td>\n",
       "      <td>7</td>\n",
       "      <td>9</td>\n",
       "      <td>63</td>\n",
       "      <td>3.0</td>\n",
       "      <td>0</td>\n",
       "      <td>1.5</td>\n",
       "      <td>10</td>\n",
       "      <td>0</td>\n",
       "      <td>...</td>\n",
       "      <td>160</td>\n",
       "      <td>5</td>\n",
       "      <td>2</td>\n",
       "      <td>127</td>\n",
       "      <td>109</td>\n",
       "      <td>128</td>\n",
       "      <td>24</td>\n",
       "      <td>0</td>\n",
       "      <td>7</td>\n",
       "      <td>1</td>\n",
       "    </tr>\n",
       "    <tr>\n",
       "      <th>1199</th>\n",
       "      <td>143</td>\n",
       "      <td>5</td>\n",
       "      <td>0</td>\n",
       "      <td>5</td>\n",
       "      <td>44</td>\n",
       "      <td>1.1</td>\n",
       "      <td>5</td>\n",
       "      <td>12.2</td>\n",
       "      <td>0</td>\n",
       "      <td>0</td>\n",
       "      <td>...</td>\n",
       "      <td>173</td>\n",
       "      <td>4</td>\n",
       "      <td>0</td>\n",
       "      <td>147</td>\n",
       "      <td>148</td>\n",
       "      <td>149</td>\n",
       "      <td>4</td>\n",
       "      <td>0</td>\n",
       "      <td>2</td>\n",
       "      <td>1</td>\n",
       "    </tr>\n",
       "    <tr>\n",
       "      <th>1034</th>\n",
       "      <td>135</td>\n",
       "      <td>3</td>\n",
       "      <td>0</td>\n",
       "      <td>2</td>\n",
       "      <td>26</td>\n",
       "      <td>1.5</td>\n",
       "      <td>0</td>\n",
       "      <td>3.4</td>\n",
       "      <td>1</td>\n",
       "      <td>0</td>\n",
       "      <td>...</td>\n",
       "      <td>158</td>\n",
       "      <td>4</td>\n",
       "      <td>0</td>\n",
       "      <td>139</td>\n",
       "      <td>137</td>\n",
       "      <td>139</td>\n",
       "      <td>10</td>\n",
       "      <td>1</td>\n",
       "      <td>2</td>\n",
       "      <td>1</td>\n",
       "    </tr>\n",
       "    <tr>\n",
       "      <th>243</th>\n",
       "      <td>123</td>\n",
       "      <td>0</td>\n",
       "      <td>0</td>\n",
       "      <td>1</td>\n",
       "      <td>67</td>\n",
       "      <td>0.6</td>\n",
       "      <td>27</td>\n",
       "      <td>12.6</td>\n",
       "      <td>0</td>\n",
       "      <td>0</td>\n",
       "      <td>...</td>\n",
       "      <td>160</td>\n",
       "      <td>7</td>\n",
       "      <td>0</td>\n",
       "      <td>125</td>\n",
       "      <td>123</td>\n",
       "      <td>125</td>\n",
       "      <td>2</td>\n",
       "      <td>1</td>\n",
       "      <td>10</td>\n",
       "      <td>2</td>\n",
       "    </tr>\n",
       "    <tr>\n",
       "      <th>498</th>\n",
       "      <td>130</td>\n",
       "      <td>13</td>\n",
       "      <td>98</td>\n",
       "      <td>0</td>\n",
       "      <td>31</td>\n",
       "      <td>2.6</td>\n",
       "      <td>0</td>\n",
       "      <td>14.0</td>\n",
       "      <td>0</td>\n",
       "      <td>0</td>\n",
       "      <td>...</td>\n",
       "      <td>170</td>\n",
       "      <td>12</td>\n",
       "      <td>0</td>\n",
       "      <td>157</td>\n",
       "      <td>151</td>\n",
       "      <td>156</td>\n",
       "      <td>24</td>\n",
       "      <td>1</td>\n",
       "      <td>4</td>\n",
       "      <td>1</td>\n",
       "    </tr>\n",
       "    <tr>\n",
       "      <th>1259</th>\n",
       "      <td>118</td>\n",
       "      <td>2</td>\n",
       "      <td>0</td>\n",
       "      <td>3</td>\n",
       "      <td>25</td>\n",
       "      <td>1.5</td>\n",
       "      <td>35</td>\n",
       "      <td>6.5</td>\n",
       "      <td>2</td>\n",
       "      <td>0</td>\n",
       "      <td>...</td>\n",
       "      <td>160</td>\n",
       "      <td>2</td>\n",
       "      <td>2</td>\n",
       "      <td>126</td>\n",
       "      <td>120</td>\n",
       "      <td>124</td>\n",
       "      <td>13</td>\n",
       "      <td>0</td>\n",
       "      <td>6</td>\n",
       "      <td>1</td>\n",
       "    </tr>\n",
       "    <tr>\n",
       "      <th>857</th>\n",
       "      <td>142</td>\n",
       "      <td>0</td>\n",
       "      <td>0</td>\n",
       "      <td>4</td>\n",
       "      <td>44</td>\n",
       "      <td>0.8</td>\n",
       "      <td>1</td>\n",
       "      <td>11.1</td>\n",
       "      <td>0</td>\n",
       "      <td>0</td>\n",
       "      <td>...</td>\n",
       "      <td>158</td>\n",
       "      <td>1</td>\n",
       "      <td>0</td>\n",
       "      <td>145</td>\n",
       "      <td>146</td>\n",
       "      <td>147</td>\n",
       "      <td>2</td>\n",
       "      <td>0</td>\n",
       "      <td>1</td>\n",
       "      <td>1</td>\n",
       "    </tr>\n",
       "    <tr>\n",
       "      <th>494</th>\n",
       "      <td>127</td>\n",
       "      <td>12</td>\n",
       "      <td>23</td>\n",
       "      <td>2</td>\n",
       "      <td>35</td>\n",
       "      <td>2.2</td>\n",
       "      <td>0</td>\n",
       "      <td>5.7</td>\n",
       "      <td>0</td>\n",
       "      <td>0</td>\n",
       "      <td>...</td>\n",
       "      <td>174</td>\n",
       "      <td>13</td>\n",
       "      <td>1</td>\n",
       "      <td>133</td>\n",
       "      <td>143</td>\n",
       "      <td>143</td>\n",
       "      <td>39</td>\n",
       "      <td>1</td>\n",
       "      <td>4</td>\n",
       "      <td>1</td>\n",
       "    </tr>\n",
       "    <tr>\n",
       "      <th>1004</th>\n",
       "      <td>129</td>\n",
       "      <td>7</td>\n",
       "      <td>0</td>\n",
       "      <td>5</td>\n",
       "      <td>23</td>\n",
       "      <td>1.6</td>\n",
       "      <td>0</td>\n",
       "      <td>0.0</td>\n",
       "      <td>0</td>\n",
       "      <td>0</td>\n",
       "      <td>...</td>\n",
       "      <td>166</td>\n",
       "      <td>4</td>\n",
       "      <td>0</td>\n",
       "      <td>138</td>\n",
       "      <td>143</td>\n",
       "      <td>144</td>\n",
       "      <td>13</td>\n",
       "      <td>0</td>\n",
       "      <td>4</td>\n",
       "      <td>1</td>\n",
       "    </tr>\n",
       "    <tr>\n",
       "      <th>937</th>\n",
       "      <td>126</td>\n",
       "      <td>0</td>\n",
       "      <td>0</td>\n",
       "      <td>7</td>\n",
       "      <td>34</td>\n",
       "      <td>0.9</td>\n",
       "      <td>0</td>\n",
       "      <td>14.8</td>\n",
       "      <td>0</td>\n",
       "      <td>0</td>\n",
       "      <td>...</td>\n",
       "      <td>142</td>\n",
       "      <td>1</td>\n",
       "      <td>0</td>\n",
       "      <td>133</td>\n",
       "      <td>132</td>\n",
       "      <td>134</td>\n",
       "      <td>2</td>\n",
       "      <td>1</td>\n",
       "      <td>1</td>\n",
       "      <td>1</td>\n",
       "    </tr>\n",
       "  </tbody>\n",
       "</table>\n",
       "<p>10 rows × 23 columns</p>\n",
       "</div>"
      ],
      "text/plain": [
       "       LB  AC  FM  UC  ASTV  MSTV  ALTV  MLTV  DL  DS  ...  Max  Nmax  Nzeros  \\\n",
       "2046  128   0   7   9    63   3.0     0   1.5  10   0  ...  160     5       2   \n",
       "1199  143   5   0   5    44   1.1     5  12.2   0   0  ...  173     4       0   \n",
       "1034  135   3   0   2    26   1.5     0   3.4   1   0  ...  158     4       0   \n",
       "243   123   0   0   1    67   0.6    27  12.6   0   0  ...  160     7       0   \n",
       "498   130  13  98   0    31   2.6     0  14.0   0   0  ...  170    12       0   \n",
       "1259  118   2   0   3    25   1.5    35   6.5   2   0  ...  160     2       2   \n",
       "857   142   0   0   4    44   0.8     1  11.1   0   0  ...  158     1       0   \n",
       "494   127  12  23   2    35   2.2     0   5.7   0   0  ...  174    13       1   \n",
       "1004  129   7   0   5    23   1.6     0   0.0   0   0  ...  166     4       0   \n",
       "937   126   0   0   7    34   0.9     0  14.8   0   0  ...  142     1       0   \n",
       "\n",
       "      Mode  Mean  Median  Variance  Tendency  CLASS  NSP  \n",
       "2046   127   109     128        24         0      7    1  \n",
       "1199   147   148     149         4         0      2    1  \n",
       "1034   139   137     139        10         1      2    1  \n",
       "243    125   123     125         2         1     10    2  \n",
       "498    157   151     156        24         1      4    1  \n",
       "1259   126   120     124        13         0      6    1  \n",
       "857    145   146     147         2         0      1    1  \n",
       "494    133   143     143        39         1      4    1  \n",
       "1004   138   143     144        13         0      4    1  \n",
       "937    133   132     134         2         1      1    1  \n",
       "\n",
       "[10 rows x 23 columns]"
      ]
     },
     "execution_count": 4,
     "metadata": {},
     "output_type": "execute_result"
    }
   ],
   "source": [
    "data.sample(n = 10) # Randomly select 10 sample rows of data"
   ]
  },
  {
   "cell_type": "code",
   "execution_count": 5,
   "id": "973eb3f6",
   "metadata": {},
   "outputs": [
    {
     "data": {
      "image/png": "[encoded data removed]",
      "text/plain": [
       "<Figure size 432x288 with 1 Axes>"
      ]
     },
     "metadata": {
      "needs_background": "light"
     },
     "output_type": "display_data"
    }
   ],
   "source": [
    "from matplotlib import pyplot as plt\n",
    "\n",
    "index1 = np.where(data['NSP']==1)  # To get the index for the records's NSP value which is 1, 2,or 3\n",
    "index2 = np.where(data['NSP']==2)\n",
    "index3 = np.where(data['NSP']==3)\n",
    "\n",
    "# fig = plt.figure(figsize=(8,8)) #To make the graph size bigger\n",
    "plt.scatter(data['AC'].loc[index1], data['FM'].loc[index1], c='red',label='Normal')\n",
    "plt.scatter(data['AC'].loc[index2], data['FM'].loc[index2], c='blue',label='Suspect')\n",
    "plt.scatter(data['AC'].loc[index3], data['FM'].loc[index3], c='purple',label='Pathologic')\n",
    "plt.legend()  # Show the legend\n",
    "\n",
    "plt.xlabel(\"AC: # of accelerations per second\")   # Name of x-axis\n",
    "plt.ylabel(\"FM: # of fetal movements per second\") # Name of y-axis\n",
    "plt.show()                                        # Show the figure"
   ]
  },
  {
   "cell_type": "code",
   "execution_count": 6,
   "id": "9d445d5c",
   "metadata": {},
   "outputs": [
    {
     "data": {
      "image/png": "[encoded data removed]",
      "text/plain": [
       "<Figure size 432x288 with 1 Axes>"
      ]
     },
     "metadata": {
      "needs_background": "light"
     },
     "output_type": "display_data"
    }
   ],
   "source": [
    "# fig = plt.figure(figsize=(8,8)) #To make the graph size bigger\n",
    "plt.scatter(data['UC'].loc[index1], data['FM'].loc[index1], c='red',label='Normal')\n",
    "plt.scatter(data['UC'].loc[index2], data['FM'].loc[index2], c='blue',label='Suspect')\n",
    "plt.scatter(data['UC'].loc[index3], data['FM'].loc[index3], c='purple',label='Pathologic')\n",
    "plt.legend()\n",
    "\n",
    "plt.xlabel(\"UC: # of uterine contractions per second\") # Name of x-axis\n",
    "plt.ylabel(\"FM: # of fetal movements per second\")      # Name of y-axis\n",
    "plt.show()                                             # Show the figure"
   ]
  },
  {
   "cell_type": "markdown",
   "id": "e9be51bf",
   "metadata": {},
   "source": [
    "### To find the type,range,mean and std of the selected features"
   ]
  },
  {
   "cell_type": "code",
   "execution_count": 7,
   "id": "dc16637c",
   "metadata": {},
   "outputs": [
    {
     "name": "stdout",
     "output_type": "stream",
     "text": [
      "int64\n",
      "Range of LB: 106 - 160\n",
      "Mean: 133.3038570084666\n",
      "std 9.84084425772098\n"
     ]
    }
   ],
   "source": [
    "# To calculate the type,min,max,mean and std for LB\n",
    "\n",
    "print(data.dtypes['LB'])\n",
    "\n",
    "min = data['LB'].min()\n",
    "max = data['LB'].max()\n",
    "mean = data['LB'].mean()\n",
    "std = data['LB'].std()\n",
    "\n",
    "print('Range of LB:',min,\"-\",max)\n",
    "print('Mean:',mean)\n",
    "print('std',std)"
   ]
  },
  {
   "cell_type": "code",
   "execution_count": 8,
   "id": "d6ecbf94",
   "metadata": {},
   "outputs": [
    {
     "name": "stdout",
     "output_type": "stream",
     "text": [
      "int64\n",
      "Range of AC: 0 - 26\n",
      "Mean: 2.722483537158984\n",
      "std 3.560850214860175\n"
     ]
    }
   ],
   "source": [
    "# To calculate the type,min,max,mean and std for AC\n",
    "\n",
    "print(data.dtypes['AC'])\n",
    "\n",
    "min = data['AC'].min()\n",
    "max = data['AC'].max()\n",
    "mean = data['AC'].mean()\n",
    "std = data['AC'].std()\n",
    "\n",
    "print('Range of AC:',min,\"-\",max)\n",
    "print('Mean:',mean)\n",
    "print('std',std)"
   ]
  },
  {
   "cell_type": "code",
   "execution_count": 9,
   "id": "772d4a86",
   "metadata": {},
   "outputs": [
    {
     "name": "stdout",
     "output_type": "stream",
     "text": [
      "int64\n",
      "Range of FM: 0 - 564\n",
      "Mean: 7.241298212605833\n",
      "std 37.12530903981976\n"
     ]
    }
   ],
   "source": [
    "# To calculate the type,min,max,mean and std for FM\n",
    "\n",
    "print(data.dtypes['FM'])\n",
    "\n",
    "min = data['FM'].min()\n",
    "max = data['FM'].max()\n",
    "mean = data['FM'].mean()\n",
    "std = data['FM'].std()\n",
    "\n",
    "print('Range of FM:',min,\"-\",max)\n",
    "print('Mean:',mean)\n",
    "print('std',std)"
   ]
  },
  {
   "cell_type": "code",
   "execution_count": 10,
   "id": "fc61972d",
   "metadata": {},
   "outputs": [
    {
     "name": "stdout",
     "output_type": "stream",
     "text": [
      "int64\n",
      "Range of UC: 0 - 23\n",
      "Mean: 3.6599247412982128\n",
      "std 2.8470935097318018\n"
     ]
    }
   ],
   "source": [
    "# To calculate the type,min,max,mean and std for UC\n",
    "\n",
    "print(data.dtypes['UC'])\n",
    "\n",
    "min = data['UC'].min()\n",
    "max = data['UC'].max()\n",
    "mean = data['UC'].mean()\n",
    "std = data['UC'].std()\n",
    "\n",
    "print('Range of UC:',min,\"-\",max)\n",
    "print('Mean:',mean)\n",
    "print('std',std)"
   ]
  },
  {
   "cell_type": "code",
   "execution_count": 11,
   "id": "20717515",
   "metadata": {},
   "outputs": [
    {
     "name": "stdout",
     "output_type": "stream",
     "text": [
      "int64\n",
      "Range of DL: 0 - 16\n",
      "Mean: 1.570084666039511\n",
      "std 2.499228811383983\n"
     ]
    }
   ],
   "source": [
    "# To calculate the type,min,max,mean and std for DL\n",
    "\n",
    "print(data.dtypes['DL'])\n",
    "\n",
    "min = data['DL'].min()\n",
    "max = data['DL'].max()\n",
    "mean = data['DL'].mean()\n",
    "std = data['DL'].std()\n",
    "\n",
    "print('Range of DL:',min,\"-\",max)\n",
    "print('Mean:',mean)\n",
    "print('std',std)"
   ]
  },
  {
   "cell_type": "code",
   "execution_count": 12,
   "id": "182e5e62",
   "metadata": {},
   "outputs": [
    {
     "name": "stdout",
     "output_type": "stream",
     "text": [
      "int64\n",
      "Range of DS: 0 - 1\n",
      "Mean: 0.003292568203198495\n",
      "std 0.05729983891806735\n"
     ]
    }
   ],
   "source": [
    "# To calculate the type,min,max,mean and std for DS\n",
    "\n",
    "print(data.dtypes['DS'])\n",
    "\n",
    "min = data['DS'].min()\n",
    "max = data['DS'].max()\n",
    "mean = data['DS'].mean()\n",
    "std = data['DS'].std()\n",
    "\n",
    "print('Range of DS:',min,\"-\",max)\n",
    "print('Mean:',mean)\n",
    "print('std',std)"
   ]
  },
  {
   "cell_type": "code",
   "execution_count": 13,
   "id": "ffd976b4",
   "metadata": {
    "scrolled": false
   },
   "outputs": [
    {
     "name": "stdout",
     "output_type": "stream",
     "text": [
      "int64\n",
      "Range of DP: 0 - 4\n",
      "Mean: 0.12605832549388524\n",
      "std 0.4643611012576752\n"
     ]
    }
   ],
   "source": [
    "# To calculate the type,min,max,mean and std for DP\n",
    "\n",
    "print(data.dtypes['DP'])\n",
    "\n",
    "min = data['DP'].min()\n",
    "max = data['DP'].max()\n",
    "mean = data['DP'].mean()\n",
    "std = data['DP'].std()\n",
    "\n",
    "print('Range of DP:',min,\"-\",max)\n",
    "print('Mean:',mean)\n",
    "print('std',std)"
   ]
  },
  {
   "cell_type": "code",
   "execution_count": 14,
   "id": "abe43c99",
   "metadata": {},
   "outputs": [
    {
     "name": "stdout",
     "output_type": "stream",
     "text": [
      "int64\n",
      "Range of ASTV: 12 - 87\n",
      "Mean: 46.99012229539041\n",
      "std 17.19281371857163\n"
     ]
    }
   ],
   "source": [
    "# To calculate the type,min,max,mean and std for ASTV\n",
    "\n",
    "print(data.dtypes['ASTV'])\n",
    "\n",
    "min = data['ASTV'].min()\n",
    "max = data['ASTV'].max()\n",
    "mean = data['ASTV'].mean()\n",
    "std = data['ASTV'].std()\n",
    "\n",
    "print('Range of ASTV:',min,\"-\",max)\n",
    "print('Mean:',mean)\n",
    "print('std',std)"
   ]
  },
  {
   "cell_type": "code",
   "execution_count": 15,
   "id": "d42ffa60",
   "metadata": {},
   "outputs": [
    {
     "name": "stdout",
     "output_type": "stream",
     "text": [
      "float64\n",
      "Range of MSTV: 0.2 - 7.0\n",
      "Mean: 1.3327845719661344\n",
      "std 0.883241334106822\n"
     ]
    }
   ],
   "source": [
    "# To calculate the type,min,max,mean and std for MSTV\n",
    "\n",
    "print(data.dtypes['MSTV'])\n",
    "\n",
    "min = data['MSTV'].min()\n",
    "max = data['MSTV'].max()\n",
    "mean = data['MSTV'].mean()\n",
    "std = data['MSTV'].std()\n",
    "\n",
    "print('Range of MSTV:',min,\"-\",max)\n",
    "print('Mean:',mean)\n",
    "print('std',std)"
   ]
  },
  {
   "cell_type": "code",
   "execution_count": 16,
   "id": "8f359c25",
   "metadata": {},
   "outputs": [
    {
     "name": "stdout",
     "output_type": "stream",
     "text": [
      "int64\n",
      "Range of ALTV: 0 - 91\n",
      "Mean: 9.846660395108184\n",
      "std 18.396879675177516\n"
     ]
    }
   ],
   "source": [
    "# To calculate the type,min,max,mean and std for ALTV\n",
    "\n",
    "print(data.dtypes['ALTV'])\n",
    "\n",
    "min = data['ALTV'].min()\n",
    "max = data['ALTV'].max()\n",
    "mean = data['ALTV'].mean()\n",
    "std = data['ALTV'].std()\n",
    "\n",
    "print('Range of ALTV:',min,\"-\",max)\n",
    "print('Mean:',mean)\n",
    "print('std',std)"
   ]
  },
  {
   "cell_type": "code",
   "execution_count": 17,
   "id": "43f54ca0",
   "metadata": {},
   "outputs": [
    {
     "name": "stdout",
     "output_type": "stream",
     "text": [
      "float64\n",
      "Range of MLTV: 0.0 - 50.7\n",
      "Mean: 8.187629350893681\n",
      "std 5.6282466040678685\n"
     ]
    }
   ],
   "source": [
    "# To calculate the type,min,max,mean and std for MLTV\n",
    "\n",
    "print(data.dtypes['MLTV'])\n",
    "\n",
    "min = data['MLTV'].min()\n",
    "max = data['MLTV'].max()\n",
    "mean = data['MLTV'].mean()\n",
    "std = data['MLTV'].std()\n",
    "\n",
    "print('Range of MLTV:',min,\"-\",max)\n",
    "print('Mean:',mean)\n",
    "print('std',std)"
   ]
  },
  {
   "cell_type": "code",
   "execution_count": 18,
   "id": "1eb4179a",
   "metadata": {},
   "outputs": [
    {
     "name": "stdout",
     "output_type": "stream",
     "text": [
      "int64\n",
      "Range of Width: 3 - 180\n",
      "Mean: 70.44590780809031\n",
      "std 38.95569295795309\n"
     ]
    }
   ],
   "source": [
    "# To calculate the type,min,max,mean and std for Width\n",
    "\n",
    "print(data.dtypes['Width'])\n",
    "\n",
    "min = data['Width'].min()\n",
    "max = data['Width'].max()\n",
    "mean = data['Width'].mean()\n",
    "std = data['Width'].std()\n",
    "\n",
    "print('Range of Width:',min,\"-\",max)\n",
    "print('Mean:',mean)\n",
    "print('std',std)"
   ]
  },
  {
   "cell_type": "code",
   "execution_count": 19,
   "id": "c966a190",
   "metadata": {},
   "outputs": [
    {
     "name": "stdout",
     "output_type": "stream",
     "text": [
      "int64\n",
      "Range of Min: 50 - 159\n",
      "Mean: 93.57949200376294\n",
      "std 29.560212256273353\n"
     ]
    }
   ],
   "source": [
    "# To calculate the type,min,max,mean and std for Min\n",
    "\n",
    "print(data.dtypes['Min'])\n",
    "\n",
    "min = data['Min'].min()\n",
    "max = data['Min'].max()\n",
    "mean = data['Min'].mean()\n",
    "std = data['Min'].std()\n",
    "\n",
    "print('Range of Min:',min,\"-\",max)\n",
    "print('Mean:',mean)\n",
    "print('std',std)"
   ]
  },
  {
   "cell_type": "code",
   "execution_count": 20,
   "id": "e6ce0d14",
   "metadata": {},
   "outputs": [
    {
     "name": "stdout",
     "output_type": "stream",
     "text": [
      "int64\n",
      "Range of Max: 122 - 238\n",
      "Mean: 164.02539981185325\n",
      "std 17.944183110053633\n"
     ]
    }
   ],
   "source": [
    "# To calculate the type,min,max,mean and std for Max\n",
    "\n",
    "print(data.dtypes['Max'])\n",
    "\n",
    "min = data['Max'].min()\n",
    "max = data['Max'].max()\n",
    "mean = data['Max'].mean()\n",
    "std = data['Max'].std()\n",
    "\n",
    "print('Range of Max:',min,\"-\",max)\n",
    "print('Mean:',mean)\n",
    "print('std',std)"
   ]
  },
  {
   "cell_type": "code",
   "execution_count": 21,
   "id": "52c3d318",
   "metadata": {},
   "outputs": [
    {
     "name": "stdout",
     "output_type": "stream",
     "text": [
      "int64\n",
      "Range of Nmax: 0 - 18\n",
      "Mean: 4.068203198494826\n",
      "std 2.9493856218636\n"
     ]
    }
   ],
   "source": [
    "# To calculate the type,min,max,mean and std for Nmax\n",
    "\n",
    "print(data.dtypes['Nmax'])\n",
    "\n",
    "min = data['Nmax'].min()\n",
    "max = data['Nmax'].max()\n",
    "mean = data['Nmax'].mean()\n",
    "std = data['Nmax'].std()\n",
    "\n",
    "print('Range of Nmax:',min,\"-\",max)\n",
    "print('Mean:',mean)\n",
    "print('std',std)"
   ]
  },
  {
   "cell_type": "code",
   "execution_count": 22,
   "id": "90680c1c",
   "metadata": {},
   "outputs": [
    {
     "name": "stdout",
     "output_type": "stream",
     "text": [
      "int64\n",
      "Range of Nzeros: 0 - 10\n",
      "Mean: 0.3236124176857949\n",
      "std 0.706059373151539\n"
     ]
    }
   ],
   "source": [
    "# To calculate the type,min,max,mean and std for Nzeros\n",
    "\n",
    "print(data.dtypes['Nzeros'])\n",
    "\n",
    "min = data['Nzeros'].min()\n",
    "max = data['Nzeros'].max()\n",
    "mean = data['Nzeros'].mean()\n",
    "std = data['Nzeros'].std()\n",
    "\n",
    "print('Range of Nzeros:',min,\"-\",max)\n",
    "print('Mean:',mean)\n",
    "print('std',std)"
   ]
  },
  {
   "cell_type": "code",
   "execution_count": 23,
   "id": "c9312ec3",
   "metadata": {},
   "outputs": [
    {
     "name": "stdout",
     "output_type": "stream",
     "text": [
      "int64\n",
      "Range of Mode: 60 - 187\n",
      "Mean: 137.45202257761053\n",
      "std 16.38128927344232\n"
     ]
    }
   ],
   "source": [
    "# To calculate the type,min,max,mean and std for Mode\n",
    "\n",
    "print(data.dtypes['Mode'])\n",
    "\n",
    "min = data['Mode'].min()\n",
    "max = data['Mode'].max()\n",
    "mean = data['Mode'].mean()\n",
    "std = data['Mode'].std()\n",
    "\n",
    "print('Range of Mode:',min,\"-\",max)\n",
    "print('Mean:',mean)\n",
    "print('std',std)"
   ]
  },
  {
   "cell_type": "code",
   "execution_count": 24,
   "id": "07c95ada",
   "metadata": {},
   "outputs": [
    {
     "name": "stdout",
     "output_type": "stream",
     "text": [
      "int64\n",
      "Range of Mean: 73 - 182\n",
      "Mean: 134.61053621825025\n",
      "std 15.593596332563022\n"
     ]
    }
   ],
   "source": [
    "# To calculate the type,min,max,mean and std for Mean\n",
    "\n",
    "print(data.dtypes['Mean'])\n",
    "\n",
    "min = data['Mean'].min()\n",
    "max = data['Mean'].max()\n",
    "mean = data['Mean'].mean()\n",
    "std = data['Mean'].std()\n",
    "\n",
    "print('Range of Mean:',min,\"-\",max)\n",
    "print('Mean:',mean)\n",
    "print('std',std)"
   ]
  },
  {
   "cell_type": "code",
   "execution_count": 25,
   "id": "58984888",
   "metadata": {},
   "outputs": [
    {
     "name": "stdout",
     "output_type": "stream",
     "text": [
      "int64\n",
      "Range of Median: 77 - 186\n",
      "Mean: 138.09031044214487\n",
      "std 14.466588855950352\n"
     ]
    }
   ],
   "source": [
    "# To calculate the type,min,max,mean and std for Median\n",
    "\n",
    "print(data.dtypes['Median'])\n",
    "\n",
    "min = data['Median'].min()\n",
    "max = data['Median'].max()\n",
    "mean = data['Median'].mean()\n",
    "std = data['Median'].std()\n",
    "\n",
    "print('Range of Median:',min,\"-\",max)\n",
    "print('Mean:',mean)\n",
    "print('std',std)"
   ]
  },
  {
   "cell_type": "code",
   "execution_count": 26,
   "id": "92db6409",
   "metadata": {},
   "outputs": [
    {
     "name": "stdout",
     "output_type": "stream",
     "text": [
      "int64\n",
      "Range of Variance: 0 - 269\n",
      "Mean: 18.808090310442147\n",
      "std 28.97763600837252\n"
     ]
    }
   ],
   "source": [
    "# To calculate the type,min,max,mean and std for Variance\n",
    "\n",
    "print(data.dtypes['Variance'])\n",
    "\n",
    "min = data['Variance'].min()\n",
    "max = data['Variance'].max()\n",
    "mean = data['Variance'].mean()\n",
    "std = data['Variance'].std()\n",
    "\n",
    "print('Range of Variance:',min,\"-\",max)\n",
    "print('Mean:',mean)\n",
    "print('std',std)"
   ]
  },
  {
   "cell_type": "code",
   "execution_count": 27,
   "id": "d0b39f97",
   "metadata": {},
   "outputs": [
    {
     "name": "stdout",
     "output_type": "stream",
     "text": [
      "int64\n",
      "Range of Tendency: -1 - 1\n",
      "Mean: 0.32031984948259645\n",
      "std 0.610828630055284\n"
     ]
    }
   ],
   "source": [
    "# To calculate the type,min,max,mean and std for Tendency\n",
    "\n",
    "print(data.dtypes['Tendency'])\n",
    "\n",
    "min = data['Tendency'].min()\n",
    "max = data['Tendency'].max()\n",
    "mean = data['Tendency'].mean()\n",
    "std = data['Tendency'].std()\n",
    "\n",
    "print('Range of Tendency:',min,\"-\",max)\n",
    "print('Mean:',mean)\n",
    "print('std',std)"
   ]
  },
  {
   "cell_type": "markdown",
   "id": "092d83f5",
   "metadata": {},
   "source": [
    "## Support Vector Machine"
   ]
  },
  {
   "cell_type": "markdown",
   "id": "74461c63",
   "metadata": {},
   "source": [
    "### Split the datasets into training set,test set and validation set for support vector machine model"
   ]
  },
  {
   "cell_type": "code",
   "execution_count": 28,
   "id": "036598c5",
   "metadata": {},
   "outputs": [
    {
     "name": "stdout",
     "output_type": "stream",
     "text": [
      "(1339, 7)\n",
      "(1339,)\n",
      "(149, 7)\n",
      "(149,)\n",
      "(638, 7)\n",
      "(638,)\n"
     ]
    }
   ],
   "source": [
    "from sklearn.preprocessing import MinMaxScaler, StandardScaler\n",
    "from sklearn.model_selection import train_test_split\n",
    "\n",
    "# Define the data for X and y\n",
    "y = data['NSP']\n",
    "X = data.drop(columns='NSP')\n",
    "cols = ['LB','AC','UC','FM','DL','DS','DP'] \n",
    "X = data[cols]\n",
    "scaler = StandardScaler()\n",
    "X_transform = scaler.fit_transform(X)\n",
    "\n",
    "# Split data in training set, validation set and test set\n",
    "X_train, X_test, y_train, y_test = train_test_split(X_transform, y, test_size=0.3, random_state=10) \n",
    "X_train, X_val, y_train, y_val = train_test_split(X_train, y_train, test_size=0.1, random_state=10) \n",
    "\n",
    "# Print the shape of training set,validation set and test set\n",
    "print(X_train.shape)\n",
    "print(y_train.shape)\n",
    "print(X_val.shape)\n",
    "print(y_val.shape)\n",
    "print(X_test.shape)\n",
    "print(y_test.shape)"
   ]
  },
  {
   "cell_type": "code",
   "execution_count": 29,
   "id": "9672fd67",
   "metadata": {},
   "outputs": [
    {
     "data": {
      "text/plain": [
       "SVC(C=0.1, kernel='linear')"
      ]
     },
     "execution_count": 29,
     "metadata": {},
     "output_type": "execute_result"
    }
   ],
   "source": [
    "from sklearn.svm import SVC\n",
    "C = 0.1\n",
    "\n",
    "# Set the SVM as linear\n",
    "model_svc = SVC(kernel='linear', C=C) \n",
    "model_svc.fit(X_train, y_train)"
   ]
  },
  {
   "cell_type": "markdown",
   "id": "a2da703b",
   "metadata": {},
   "source": [
    "### Use polynomial kernel to build the model"
   ]
  },
  {
   "cell_type": "code",
   "execution_count": 30,
   "id": "82abd092",
   "metadata": {},
   "outputs": [
    {
     "name": "stdout",
     "output_type": "stream",
     "text": [
      "0.85423197492163\n",
      "[[483  12   2]\n",
      " [ 54  39   1]\n",
      " [ 12  12  23]]\n",
      "              precision    recall  f1-score   support\n",
      "\n",
      "           1       0.88      0.97      0.92       497\n",
      "           2       0.62      0.41      0.50        94\n",
      "           3       0.88      0.49      0.63        47\n",
      "\n",
      "    accuracy                           0.85       638\n",
      "   macro avg       0.79      0.63      0.68       638\n",
      "weighted avg       0.84      0.85      0.84       638\n",
      "\n"
     ]
    }
   ],
   "source": [
    "from sklearn.metrics import accuracy_score, confusion_matrix, classification_report\n",
    "model_svc_best = SVC(kernel='poly', C=5, gamma='scale')\n",
    "model_svc_best.fit(X_train, y_train)\n",
    "y_pred = model_svc_best.predict(X_test)\n",
    "\n",
    "# Calculate the accuracy score, confusion matrix and classification report\n",
    "print(accuracy_score(y_test, y_pred))\n",
    "print(confusion_matrix(y_test, y_pred))\n",
    "print(classification_report(y_test, y_pred))"
   ]
  },
  {
   "cell_type": "markdown",
   "id": "a18e25ca",
   "metadata": {},
   "source": [
    "## Neural Network"
   ]
  },
  {
   "cell_type": "code",
   "execution_count": 31,
   "id": "4ae19c9f",
   "metadata": {
    "scrolled": true
   },
   "outputs": [
    {
     "name": "stdout",
     "output_type": "stream",
     "text": [
      "(2126, 21)\n",
      "(2126, 3)\n"
     ]
    }
   ],
   "source": [
    "# Separate all the features in X, NSP in y\n",
    "\n",
    "from tensorflow.keras.utils import to_categorical\n",
    "\n",
    "# Insert NSP values,all values-1,the class become 0,1,2 because to_categorical convert start from integer 0\n",
    "y = (data['NSP'] - 1)\n",
    "y = to_categorical(y)                            # Convert the a class vector (integers) to binary class matrix\n",
    "\n",
    "X = data.drop(columns = ['CLASS','NSP']).values  # Drop the two classification column and convert to numpy array\n",
    "\n",
    "print(X.shape)\n",
    "print(y.shape)"
   ]
  },
  {
   "cell_type": "code",
   "execution_count": 32,
   "id": "96b39b04",
   "metadata": {},
   "outputs": [],
   "source": [
    "from sklearn.preprocessing import MinMaxScaler\n",
    "scaler = MinMaxScaler()\n",
    "X = scaler.fit_transform(X)"
   ]
  },
  {
   "cell_type": "markdown",
   "id": "ef15509a",
   "metadata": {},
   "source": [
    "### Split the datasets into training set,test set and validation set for neural network"
   ]
  },
  {
   "cell_type": "code",
   "execution_count": 33,
   "id": "8b575207",
   "metadata": {},
   "outputs": [
    {
     "name": "stdout",
     "output_type": "stream",
     "text": [
      "(1339, 21)\n",
      "(1339, 3)\n",
      "(149, 21)\n",
      "(149, 3)\n",
      "(638, 21)\n",
      "(638, 3)\n"
     ]
    }
   ],
   "source": [
    "from sklearn.model_selection import train_test_split\n",
    "\n",
    "# Split data in training set, validation set and test set\n",
    "X_train, X_test, y_train, y_test = train_test_split(X, y, test_size=0.3, random_state=10)\n",
    "X_train, X_val, y_train, y_val = train_test_split(X_train, y_train, test_size=0.1, random_state=10)\n",
    "\n",
    "# Print the shape of training set,validation set and test set\n",
    "print(X_train.shape)\n",
    "print(y_train.shape)\n",
    "print(X_val.shape)\n",
    "print(y_val.shape)\n",
    "print(X_test.shape)\n",
    "print(y_test.shape)"
   ]
  },
  {
   "cell_type": "markdown",
   "id": "7aa193ab",
   "metadata": {},
   "source": [
    "### Build the input layer, hidden layers & output layer"
   ]
  },
  {
   "cell_type": "code",
   "execution_count": 34,
   "id": "53314687",
   "metadata": {},
   "outputs": [],
   "source": [
    "from tensorflow.keras.models import Sequential\n",
    "\n",
    "l2 = tf.keras.regularizers.l2(l=0.01) # Set L2 regularization to 0.01 to reduce overfitting\n",
    "\n",
    "# Create a model that has 1 input layer, 2 hidden layers and 1 output layer\n",
    "model = tf.keras.models.Sequential([\n",
    "    tf.keras.layers.Input(shape=(21,)),\n",
    "    tf.keras.layers.Dense(30, activation='relu', dtype='float64',kernel_regularizer='l2'), \n",
    "    tf.keras.layers.Dense(30, activation='relu', dtype='float64',kernel_regularizer='l2'),\n",
    "    tf.keras.layers.Dense(3, activation='softmax', dtype='float64',kernel_regularizer='l2')\n",
    "])"
   ]
  },
  {
   "cell_type": "code",
   "execution_count": 35,
   "id": "5523ba3a",
   "metadata": {},
   "outputs": [],
   "source": [
    "# Configure the model with losses and metrics\n",
    "\n",
    "loss_fn = tf.keras.losses.CategoricalCrossentropy()\n",
    "\n",
    "model.compile(optimizer='adam', # Optimizer to use to train the model\n",
    "loss = loss_fn,                 # Specify the loss function\n",
    "metrics=['accuracy'])           # Metric to use to monitor the model training"
   ]
  },
  {
   "cell_type": "markdown",
   "id": "32d09cba",
   "metadata": {},
   "source": [
    "### Summary of the neural network model"
   ]
  },
  {
   "cell_type": "code",
   "execution_count": 36,
   "id": "138379c4",
   "metadata": {},
   "outputs": [
    {
     "name": "stdout",
     "output_type": "stream",
     "text": [
      "Model: \"sequential\"\n",
      "_________________________________________________________________\n",
      " Layer (type)                Output Shape              Param #   \n",
      "=================================================================\n",
      " dense (Dense)               (None, 30)                660       \n",
      "                                                                 \n",
      " dense_1 (Dense)             (None, 30)                930       \n",
      "                                                                 \n",
      " dense_2 (Dense)             (None, 3)                 93        \n",
      "                                                                 \n",
      "=================================================================\n",
      "Total params: 1,683\n",
      "Trainable params: 1,683\n",
      "Non-trainable params: 0\n",
      "_________________________________________________________________\n"
     ]
    }
   ],
   "source": [
    "model.summary() # Print the summary of the model"
   ]
  },
  {
   "cell_type": "markdown",
   "id": "db426936",
   "metadata": {},
   "source": [
    "### Use the model for training"
   ]
  },
  {
   "cell_type": "code",
   "execution_count": 37,
   "id": "fdbdbadf",
   "metadata": {},
   "outputs": [
    {
     "name": "stdout",
     "output_type": "stream",
     "text": [
      "Epoch 1/100\n",
      "42/42 [==============================] - 1s 6ms/step - loss: 1.3160 - accuracy: 0.7767 - val_loss: 1.1378 - val_accuracy: 0.7919\n",
      "Epoch 2/100\n",
      "42/42 [==============================] - 0s 2ms/step - loss: 1.0742 - accuracy: 0.7767 - val_loss: 0.9916 - val_accuracy: 0.7919\n",
      "Epoch 3/100\n",
      "42/42 [==============================] - 0s 2ms/step - loss: 0.9394 - accuracy: 0.7767 - val_loss: 0.8776 - val_accuracy: 0.7919\n",
      "Epoch 4/100\n",
      "42/42 [==============================] - 0s 3ms/step - loss: 0.8352 - accuracy: 0.7767 - val_loss: 0.7883 - val_accuracy: 0.7919\n",
      "Epoch 5/100\n",
      "42/42 [==============================] - 0s 3ms/step - loss: 0.7546 - accuracy: 0.7767 - val_loss: 0.7182 - val_accuracy: 0.7919\n",
      "Epoch 6/100\n",
      "42/42 [==============================] - 0s 4ms/step - loss: 0.6950 - accuracy: 0.7872 - val_loss: 0.6712 - val_accuracy: 0.7919\n",
      "Epoch 7/100\n",
      "42/42 [==============================] - 0s 3ms/step - loss: 0.6526 - accuracy: 0.8111 - val_loss: 0.6350 - val_accuracy: 0.8121\n",
      "Epoch 8/100\n",
      "42/42 [==============================] - 0s 3ms/step - loss: 0.6227 - accuracy: 0.8230 - val_loss: 0.6133 - val_accuracy: 0.8255\n",
      "Epoch 9/100\n",
      "42/42 [==============================] - 0s 2ms/step - loss: 0.5999 - accuracy: 0.8417 - val_loss: 0.5923 - val_accuracy: 0.8322\n",
      "Epoch 10/100\n",
      "42/42 [==============================] - 0s 3ms/step - loss: 0.5834 - accuracy: 0.8402 - val_loss: 0.5801 - val_accuracy: 0.8322\n",
      "Epoch 11/100\n",
      "42/42 [==============================] - 0s 4ms/step - loss: 0.5721 - accuracy: 0.8506 - val_loss: 0.5695 - val_accuracy: 0.8255\n",
      "Epoch 12/100\n",
      "42/42 [==============================] - 0s 3ms/step - loss: 0.5595 - accuracy: 0.8544 - val_loss: 0.5613 - val_accuracy: 0.8255\n",
      "Epoch 13/100\n",
      "42/42 [==============================] - 0s 3ms/step - loss: 0.5531 - accuracy: 0.8506 - val_loss: 0.5547 - val_accuracy: 0.8389\n",
      "Epoch 14/100\n",
      "42/42 [==============================] - 0s 3ms/step - loss: 0.5466 - accuracy: 0.8521 - val_loss: 0.5523 - val_accuracy: 0.8389\n",
      "Epoch 15/100\n",
      "42/42 [==============================] - 0s 3ms/step - loss: 0.5401 - accuracy: 0.8544 - val_loss: 0.5476 - val_accuracy: 0.8456\n",
      "Epoch 16/100\n",
      "42/42 [==============================] - 0s 3ms/step - loss: 0.5360 - accuracy: 0.8588 - val_loss: 0.5461 - val_accuracy: 0.8456\n",
      "Epoch 17/100\n",
      "42/42 [==============================] - 0s 3ms/step - loss: 0.5302 - accuracy: 0.8626 - val_loss: 0.5395 - val_accuracy: 0.8389\n",
      "Epoch 18/100\n",
      "42/42 [==============================] - 0s 3ms/step - loss: 0.5286 - accuracy: 0.8566 - val_loss: 0.5379 - val_accuracy: 0.8389\n",
      "Epoch 19/100\n",
      "42/42 [==============================] - 0s 3ms/step - loss: 0.5248 - accuracy: 0.8574 - val_loss: 0.5309 - val_accuracy: 0.8389\n",
      "Epoch 20/100\n",
      "42/42 [==============================] - 0s 3ms/step - loss: 0.5203 - accuracy: 0.8596 - val_loss: 0.5408 - val_accuracy: 0.8591\n",
      "Epoch 21/100\n",
      "42/42 [==============================] - 0s 3ms/step - loss: 0.5215 - accuracy: 0.8581 - val_loss: 0.5279 - val_accuracy: 0.8389\n",
      "Epoch 22/100\n",
      "42/42 [==============================] - 0s 4ms/step - loss: 0.5175 - accuracy: 0.8574 - val_loss: 0.5279 - val_accuracy: 0.8456\n",
      "Epoch 23/100\n",
      "42/42 [==============================] - 0s 3ms/step - loss: 0.5143 - accuracy: 0.8618 - val_loss: 0.5243 - val_accuracy: 0.8389\n",
      "Epoch 24/100\n",
      "42/42 [==============================] - 0s 3ms/step - loss: 0.5180 - accuracy: 0.8633 - val_loss: 0.5254 - val_accuracy: 0.8658\n",
      "Epoch 25/100\n",
      "42/42 [==============================] - 0s 4ms/step - loss: 0.5121 - accuracy: 0.8603 - val_loss: 0.5249 - val_accuracy: 0.8456\n",
      "Epoch 26/100\n",
      "42/42 [==============================] - 0s 3ms/step - loss: 0.5116 - accuracy: 0.8618 - val_loss: 0.5217 - val_accuracy: 0.8456\n",
      "Epoch 27/100\n",
      "42/42 [==============================] - 0s 3ms/step - loss: 0.5109 - accuracy: 0.8603 - val_loss: 0.5182 - val_accuracy: 0.8523\n",
      "Epoch 28/100\n",
      "42/42 [==============================] - 0s 3ms/step - loss: 0.5090 - accuracy: 0.8671 - val_loss: 0.5203 - val_accuracy: 0.8389\n",
      "Epoch 29/100\n",
      "42/42 [==============================] - 0s 3ms/step - loss: 0.5094 - accuracy: 0.8611 - val_loss: 0.5205 - val_accuracy: 0.8523\n",
      "Epoch 30/100\n",
      "42/42 [==============================] - 0s 3ms/step - loss: 0.5059 - accuracy: 0.8611 - val_loss: 0.5168 - val_accuracy: 0.8523\n",
      "Epoch 31/100\n",
      "42/42 [==============================] - 0s 3ms/step - loss: 0.5042 - accuracy: 0.8671 - val_loss: 0.5155 - val_accuracy: 0.8591\n",
      "Epoch 32/100\n",
      "42/42 [==============================] - 0s 3ms/step - loss: 0.5039 - accuracy: 0.8656 - val_loss: 0.5171 - val_accuracy: 0.8523\n",
      "Epoch 33/100\n",
      "42/42 [==============================] - 0s 4ms/step - loss: 0.5035 - accuracy: 0.8596 - val_loss: 0.5140 - val_accuracy: 0.8523\n",
      "Epoch 34/100\n",
      "42/42 [==============================] - 0s 2ms/step - loss: 0.5023 - accuracy: 0.8641 - val_loss: 0.5175 - val_accuracy: 0.8591\n",
      "Epoch 35/100\n",
      "42/42 [==============================] - 0s 3ms/step - loss: 0.5026 - accuracy: 0.8686 - val_loss: 0.5179 - val_accuracy: 0.8658\n",
      "Epoch 36/100\n",
      "42/42 [==============================] - 0s 4ms/step - loss: 0.5038 - accuracy: 0.8633 - val_loss: 0.5168 - val_accuracy: 0.8456\n",
      "Epoch 37/100\n",
      "42/42 [==============================] - 0s 3ms/step - loss: 0.5030 - accuracy: 0.8626 - val_loss: 0.5164 - val_accuracy: 0.8591\n",
      "Epoch 38/100\n",
      "42/42 [==============================] - 0s 2ms/step - loss: 0.5024 - accuracy: 0.8596 - val_loss: 0.5145 - val_accuracy: 0.8725\n",
      "Epoch 39/100\n",
      "42/42 [==============================] - 0s 3ms/step - loss: 0.4991 - accuracy: 0.8656 - val_loss: 0.5145 - val_accuracy: 0.8523\n",
      "Epoch 40/100\n",
      "42/42 [==============================] - 0s 3ms/step - loss: 0.4985 - accuracy: 0.8656 - val_loss: 0.5119 - val_accuracy: 0.8591\n",
      "Epoch 41/100\n",
      "42/42 [==============================] - 0s 2ms/step - loss: 0.4977 - accuracy: 0.8663 - val_loss: 0.5154 - val_accuracy: 0.8725\n",
      "Epoch 42/100\n",
      "42/42 [==============================] - 0s 2ms/step - loss: 0.4996 - accuracy: 0.8611 - val_loss: 0.5136 - val_accuracy: 0.8725\n",
      "Epoch 43/100\n",
      "42/42 [==============================] - 0s 3ms/step - loss: 0.4981 - accuracy: 0.8626 - val_loss: 0.5113 - val_accuracy: 0.8591\n",
      "Epoch 44/100\n",
      "42/42 [==============================] - 0s 3ms/step - loss: 0.4989 - accuracy: 0.8656 - val_loss: 0.5122 - val_accuracy: 0.8725\n",
      "Epoch 45/100\n",
      "42/42 [==============================] - 0s 3ms/step - loss: 0.4970 - accuracy: 0.8671 - val_loss: 0.5104 - val_accuracy: 0.8725\n",
      "Epoch 46/100\n",
      "42/42 [==============================] - 0s 4ms/step - loss: 0.4959 - accuracy: 0.8671 - val_loss: 0.5197 - val_accuracy: 0.8725\n",
      "Epoch 47/100\n",
      "42/42 [==============================] - 0s 3ms/step - loss: 0.4974 - accuracy: 0.8723 - val_loss: 0.5076 - val_accuracy: 0.8591\n",
      "Epoch 48/100\n",
      "42/42 [==============================] - 0s 2ms/step - loss: 0.4995 - accuracy: 0.8596 - val_loss: 0.5120 - val_accuracy: 0.8725\n",
      "Epoch 49/100\n",
      "42/42 [==============================] - 0s 4ms/step - loss: 0.4960 - accuracy: 0.8671 - val_loss: 0.5145 - val_accuracy: 0.8725\n",
      "Epoch 50/100\n",
      "42/42 [==============================] - 0s 3ms/step - loss: 0.4977 - accuracy: 0.8626 - val_loss: 0.5176 - val_accuracy: 0.8725\n",
      "Epoch 51/100\n",
      "42/42 [==============================] - 0s 3ms/step - loss: 0.4997 - accuracy: 0.8663 - val_loss: 0.5076 - val_accuracy: 0.8591\n",
      "Epoch 52/100\n",
      "42/42 [==============================] - 0s 3ms/step - loss: 0.4958 - accuracy: 0.8663 - val_loss: 0.5128 - val_accuracy: 0.8725\n",
      "Epoch 53/100\n",
      "42/42 [==============================] - 0s 3ms/step - loss: 0.4950 - accuracy: 0.8671 - val_loss: 0.5100 - val_accuracy: 0.8725\n",
      "Epoch 54/100\n",
      "42/42 [==============================] - 0s 4ms/step - loss: 0.4944 - accuracy: 0.8678 - val_loss: 0.5140 - val_accuracy: 0.8725\n",
      "Epoch 55/100\n",
      "42/42 [==============================] - 0s 2ms/step - loss: 0.4958 - accuracy: 0.8715 - val_loss: 0.5089 - val_accuracy: 0.8725\n",
      "Epoch 56/100\n",
      "42/42 [==============================] - 0s 3ms/step - loss: 0.4950 - accuracy: 0.8633 - val_loss: 0.5112 - val_accuracy: 0.8658\n",
      "Epoch 57/100\n",
      "42/42 [==============================] - 0s 3ms/step - loss: 0.4942 - accuracy: 0.8663 - val_loss: 0.5098 - val_accuracy: 0.8725\n"
     ]
    }
   ],
   "source": [
    "# Set the callback setting\n",
    "my_callbacks = [               # The training will be early stopped if the 10 epoch after the epoch do not have improvement\n",
    "    tf.keras.callbacks.EarlyStopping(patience=10, monitor='val_loss'), \n",
    "    tf.keras.callbacks.ModelCheckpoint(filepath='checkpoints/',monitor='val_loss',save_weights_only=True)\n",
    "]\n",
    "\n",
    "history = model.fit(X_train, y_train,\n",
    "    validation_data=(X_val, y_val),\n",
    "    epochs=100, callbacks=my_callbacks) # Set the callback to prevent overfitting"
   ]
  },
  {
   "cell_type": "markdown",
   "id": "cb9d28b1",
   "metadata": {},
   "source": [
    "### Print the graph for training loss and validation loss"
   ]
  },
  {
   "cell_type": "code",
   "execution_count": 38,
   "id": "bcdb7e30",
   "metadata": {},
   "outputs": [
    {
     "data": {
      "text/plain": [
       "<matplotlib.legend.Legend at 0x26f7505adc0>"
      ]
     },
     "execution_count": 38,
     "metadata": {},
     "output_type": "execute_result"
    },
    {
     "data": {
      "image/png": "[encoded data removed]",
      "text/plain": [
       "<Figure size 432x288 with 1 Axes>"
      ]
     },
     "metadata": {
      "needs_background": "light"
     },
     "output_type": "display_data"
    }
   ],
   "source": [
    "# Print out the training loss and validation loss to know it is underfitting or overfitting\n",
    "# If validation loss > training loss, the model is overfitting\n",
    "# If training loss > validation loss, the model is underfitting\n",
    "\n",
    "loss_train = history.history['loss']\n",
    "loss_vald = history.history['val_loss']\n",
    "\n",
    "plt.plot(loss_train, label='train loss')\n",
    "plt.plot(loss_vald, label='validation loss')\n",
    "plt.legend()"
   ]
  },
  {
   "cell_type": "markdown",
   "id": "e0d62e63",
   "metadata": {},
   "source": [
    "### Measures of the neural network model"
   ]
  },
  {
   "cell_type": "code",
   "execution_count": 39,
   "id": "bf44d329",
   "metadata": {},
   "outputs": [
    {
     "name": "stdout",
     "output_type": "stream",
     "text": [
      "20/20 [==============================] - 0s 862us/step\n",
      "0.877742946708464\n",
      "[[489   7   1]\n",
      " [ 54  40   0]\n",
      " [  0  16  31]]\n",
      "              precision    recall  f1-score   support\n",
      "\n",
      "           0       0.90      0.98      0.94       497\n",
      "           1       0.63      0.43      0.51        94\n",
      "           2       0.97      0.66      0.78        47\n",
      "\n",
      "    accuracy                           0.88       638\n",
      "   macro avg       0.83      0.69      0.74       638\n",
      "weighted avg       0.87      0.88      0.87       638\n",
      "\n"
     ]
    }
   ],
   "source": [
    "from sklearn.metrics import accuracy_score, confusion_matrix,classification_report\n",
    "\n",
    "y_pred = model.predict(X_test) # #Predict the test set using the predictive model\n",
    "print(accuracy_score(y_test.argmax(axis=1), y_pred.argmax(axis=1)))        # Print the accuracy value\n",
    "print(confusion_matrix(y_test.argmax(axis=1), y_pred.argmax(axis=1)))      # Print the confusion matrix\n",
    "print(classification_report(y_test.argmax(axis=1), y_pred.argmax(axis=1))) # Print the classification report"
   ]
  },
  {
   "cell_type": "markdown",
   "id": "465e10ef",
   "metadata": {},
   "source": [
    "## Reference\n",
    "1. Siddharth, M. (2021, July 14). Performing multi-class classification on FIFA dataset using Keras. Analytics Vidhya. https://www.analyticsvidhya.com/blog/2021/07/performing-multi-class-classification-on-fifa-dataset-using-keras/\n",
    "2. Gandhi, R. (2018, July 5). Support Vector Machine — Introduction to Machine Learning Algorithms. Medium. https://towardsdatascience.com/support-vector-machine-introduction-to-machine-learning-algorithms-934a444fca47"
   ]
  }
 ],
 "metadata": {
  "kernelspec": {
   "display_name": "Python 3",
   "language": "python",
   "name": "python3"
  },
  "language_info": {
   "codemirror_mode": {
    "name": "ipython",
    "version": 3
   },
   "file_extension": ".py",
   "mimetype": "text/x-python",
   "name": "python",
   "nbconvert_exporter": "python",
   "pygments_lexer": "ipython3",
   "version": "3.11.0 (v3.11.0:deaf509e8f, Oct 24 2022, 14:43:23) [Clang 13.0.0 (clang-1300.0.29.30)]"
  },
  "vscode": {
   "interpreter": {
    "hash": "aee8b7b246df8f9039afb4144a1f6fd8d2ca17a180786b69acc140d282b71a49"
   }
  }
 },
 "nbformat": 4,
 "nbformat_minor": 5
}
